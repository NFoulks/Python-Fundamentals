{
 "cells": [
  {
   "cell_type": "markdown",
   "metadata": {},
   "source": [
    "# Files Input/Output\n",
    "<a href=\"https://colab.research.google.com/github/rambasnet/FDSPython-Notebooks/blob/master/Ch10-Files.ipynb\" target=\"_parent\"><img src=\"https://colab.research.google.com/assets/colab-badge.svg\" alt=\"Open In Colab\"/></a>\n",
    "\n",
    "- data is usually stored in secondary storage medium such as hard drive, flash drive, cd-rw, etc. using named locations called files\n",
    "- files can be organized into folders\n",
    "- programs often need to read data from files and save data back to files for long-term storage\n",
    "- this chapter demostrates how to read and write plain text files\n",
    "- use open() built-in function to work with files\n",
    "```python\n",
    "fileio = open(fileName, mode='r')\n",
    "```\n",
    "- `open()` let's you open file in different mode to read (default), write, append, etc.\n",
    "- see help(open) for details\n",
    "\n",
    "#### File I/O can only read and write string data"
   ]
  },
  {
   "cell_type": "code",
   "execution_count": null,
   "metadata": {},
   "outputs": [],
   "source": [
    "help(open)"
   ]
  },
  {
   "cell_type": "markdown",
   "metadata": {},
   "source": [
    "## write text data to a file\n",
    "- 3-step process\n",
    "\n",
    "1. open file with a name in write 'w' or 'a' mode\n",
    "2. write data\n",
    "3. close file"
   ]
  },
  {
   "cell_type": "code",
   "execution_count": null,
   "metadata": {},
   "outputs": [],
   "source": [
    "# old school - not preferred!!\n",
    "fw = open('test1.txt', 'w') # w is for write mode\n",
    "fw.write('words\\n=====\\n')\n",
    "fw.write('apple\\nball\\ncat\\ndog\\n')\n",
    "print(fw.write('zebra\\n'))\n",
    "fw.close() #must close the file to actually write data\n",
    "# to the secondoary storage"
   ]
  },
  {
   "cell_type": "code",
   "execution_count": null,
   "metadata": {},
   "outputs": [],
   "source": [
    "help(fw)"
   ]
  },
  {
   "cell_type": "code",
   "execution_count": null,
   "metadata": {},
   "outputs": [],
   "source": [
    "# newer and better syntax - preferred way!!\n",
    "alist = [1, 2, 3]\n",
    "with open('words.txt', 'w') as fout:\n",
    "    fout.write('apple\\nball\\ncat\\ndog\\n')\n",
    "    fout.write('elephant\\n')\n",
    "    fout.write('zebra\\n')\n",
    "    fout.write(str(1))\n",
    "    fout.write('\\n')\n",
    "    fout.write(str(alist))\n",
    "    \n",
    "\n",
    "# file will be automatically closed when with block is finished executing\n",
    "# fout.write('test\\n') # this will not be written as the file is closed; and throws I/O error"
   ]
  },
  {
   "cell_type": "markdown",
   "metadata": {},
   "source": [
    "## read text data from a file\n",
    "1. open file with its name; can provide relative or absolute path\n",
    "2. read in various ways; one line at a time, all lines, bytes, whole file, etc.\n",
    "3. use data\n",
    "4. close file\n",
    "\n",
    "### various ways to read data\n",
    "1. `read(size=-1)` : read at most size characters from stream or EOF (End of File) marker\n",
    "2. `readline()` : read until newline or EOF marker\n",
    "3. `readlines()` : read and return a list of lines from the input file"
   ]
  },
  {
   "cell_type": "code",
   "execution_count": null,
   "metadata": {},
   "outputs": [],
   "source": [
    "# read whole file as list of lines\n",
    "fr = open('words.txt', 'r') # 'r' or read mode by default; file must exist\n",
    "data = fr.readlines()\n",
    "fr.close()"
   ]
  },
  {
   "cell_type": "code",
   "execution_count": null,
   "metadata": {},
   "outputs": [],
   "source": [
    "data[0].strip()"
   ]
  },
  {
   "cell_type": "code",
   "execution_count": null,
   "metadata": {},
   "outputs": [],
   "source": [
    "with open('words.txt', 'r') as fr:\n",
    "    data= fr.readlines()"
   ]
  },
  {
   "cell_type": "code",
   "execution_count": null,
   "metadata": {},
   "outputs": [],
   "source": [
    "help(fr)"
   ]
  },
  {
   "cell_type": "code",
   "execution_count": null,
   "metadata": {},
   "outputs": [],
   "source": [
    "data"
   ]
  },
  {
   "cell_type": "code",
   "execution_count": null,
   "metadata": {},
   "outputs": [],
   "source": [
    "for el in data:\n",
    "    print(el.strip())"
   ]
  },
  {
   "cell_type": "code",
   "execution_count": null,
   "metadata": {},
   "outputs": [],
   "source": [
    "data.sort()\n",
    "    "
   ]
  },
  {
   "cell_type": "code",
   "execution_count": null,
   "metadata": {},
   "outputs": [],
   "source": [
    "data"
   ]
  },
  {
   "cell_type": "code",
   "execution_count": null,
   "metadata": {},
   "outputs": [],
   "source": [
    "with open('words1.txt', 'w') as newFile: \n",
    "    for word in data:\n",
    "        newFile.write(word)"
   ]
  },
  {
   "cell_type": "markdown",
   "metadata": {},
   "source": [
    "## read data line by line\n",
    "- let's create a file with about 10 integers one per line\n",
    "- then, read the integer line by line into a list of integers"
   ]
  },
  {
   "cell_type": "code",
   "execution_count": null,
   "metadata": {},
   "outputs": [],
   "source": [
    "# create a file with 10 integers\n",
    "# one integer per line\n",
    "import random\n",
    "with open('integers.txt', 'a') as fout:\n",
    "    for i in range(10):\n",
    "        num = random.randint(1, 1000)\n",
    "        fout.write(str(num) + '\\n')"
   ]
  },
  {
   "cell_type": "code",
   "execution_count": null,
   "metadata": {},
   "outputs": [],
   "source": [
    "# read the integer line by line into a list\n",
    "intList = []\n",
    "with open('integers.txt', 'r') as fin:\n",
    "    while True:\n",
    "        num = fin.readline()\n",
    "        num = num.strip() # strip \\n\n",
    "        if not num:\n",
    "            break\n",
    "        print('num = ', num, type(num))\n",
    "        intList.append(int(num))"
   ]
  },
  {
   "cell_type": "code",
   "execution_count": null,
   "metadata": {},
   "outputs": [],
   "source": [
    "print(intList)"
   ]
  },
  {
   "cell_type": "markdown",
   "metadata": {},
   "source": [
    "## reading the whole file at once\n",
    "- read /usr/share/dict/words file on linux/mac\n",
    "- windows path might be \"C:/temp/words.txt\" or c:\\\\temp\\\\words.txt\"\n",
    "- if the file doesn't exist, use provided words.txt file or create a text file with a bunch of words in it using an editor"
   ]
  },
  {
   "cell_type": "code",
   "execution_count": null,
   "metadata": {},
   "outputs": [],
   "source": [
    "# read first 10 lines using head program\n",
    "! head /usr/share/dict/words"
   ]
  },
  {
   "cell_type": "code",
   "execution_count": null,
   "metadata": {},
   "outputs": [],
   "source": [
    "# read last 10 lines using head program\n",
    "! tail /usr/share/dict/words"
   ]
  },
  {
   "cell_type": "code",
   "execution_count": null,
   "metadata": {},
   "outputs": [],
   "source": [
    "file = '/usr/share/dict/words' # works on mac/linux\n",
    "with open(file) as f:\n",
    "    data = f.read()\n"
   ]
  },
  {
   "cell_type": "code",
   "execution_count": null,
   "metadata": {},
   "outputs": [],
   "source": [
    "data"
   ]
  },
  {
   "cell_type": "code",
   "execution_count": null,
   "metadata": {},
   "outputs": [],
   "source": [
    "words = data.split('\\n')\n",
    "print('There are {0} words in the file.'.format(len(words)))"
   ]
  },
  {
   "cell_type": "code",
   "execution_count": null,
   "metadata": {},
   "outputs": [],
   "source": [
    "data.find('needle')"
   ]
  },
  {
   "cell_type": "code",
   "execution_count": null,
   "metadata": {},
   "outputs": [],
   "source": [
    "data[831052:831052+6]"
   ]
  },
  {
   "cell_type": "code",
   "execution_count": null,
   "metadata": {},
   "outputs": [],
   "source": [
    "# let's print first 10 words\n",
    "print(words[:10])"
   ]
  },
  {
   "cell_type": "code",
   "execution_count": null,
   "metadata": {},
   "outputs": [],
   "source": [
    "help(list)"
   ]
  },
  {
   "cell_type": "code",
   "execution_count": null,
   "metadata": {},
   "outputs": [],
   "source": [
    "words.index('needle')"
   ]
  },
  {
   "cell_type": "code",
   "execution_count": null,
   "metadata": {},
   "outputs": [],
   "source": [
    "words[123097]"
   ]
  },
  {
   "cell_type": "markdown",
   "metadata": {},
   "source": [
    "## reading the whole file as list of lines"
   ]
  },
  {
   "cell_type": "code",
   "execution_count": null,
   "metadata": {},
   "outputs": [],
   "source": [
    "file = '/usr/share/dict/words'\n",
    "with open(file) as f:\n",
    "    lines = f.readlines()\n",
    "\n",
    "print('There are {0} words in the file.'.format(len(data)))"
   ]
  },
  {
   "cell_type": "code",
   "execution_count": null,
   "metadata": {},
   "outputs": [],
   "source": [
    "lines[:2]"
   ]
  },
  {
   "cell_type": "code",
   "execution_count": null,
   "metadata": {},
   "outputs": [],
   "source": [
    "for word in lines[:10]:\n",
    "    print(word.strip())"
   ]
  },
  {
   "cell_type": "code",
   "execution_count": null,
   "metadata": {},
   "outputs": [],
   "source": [
    "for word in lines[len(lines)-10:]:\n",
    "    print(word.strip())"
   ]
  },
  {
   "cell_type": "markdown",
   "metadata": {},
   "source": [
    "## select a random word from list of words\n",
    "- import random\n",
    "- random.choice(wordList)"
   ]
  },
  {
   "cell_type": "code",
   "execution_count": null,
   "metadata": {},
   "outputs": [],
   "source": [
    "import random\n",
    "word = random.choice(lines)\n",
    "word = word.lower()\n",
    "print(f'random word = {word}')"
   ]
  },
  {
   "cell_type": "markdown",
   "metadata": {},
   "source": [
    "## exercises\n",
    "1. Write a program that reads a file and writes out a new file with the lines in reversed order (i.e. the first line in the old file becomes the last one in the new file.)\n",
    "2. Write a program that reads a file and prints only those lines that contain the substring snake.\n",
    "3. Write a program that reads a text file and produces an output file which is a copy of the file, except the first five columns of each line contain a four digit line number, followed by a space. Start numbering the first line in the output file at 1. Ensure that every line number is formatted to the same width in the output file. Use one of your Python programs as test data for this exercise: your output should be a printed and numbered listing of the Python program.\n",
    "4. Write a program that undoes the numbering of the previous exercise: it should read a file with numbered lines and produce another file without line numbers."
   ]
  },
  {
   "cell_type": "code",
   "execution_count": null,
   "metadata": {},
   "outputs": [],
   "source": []
  }
 ],
 "metadata": {
  "kernelspec": {
   "display_name": "Python 3 (ipykernel)",
   "language": "python",
   "name": "python3"
  },
  "language_info": {
   "codemirror_mode": {
    "name": "ipython",
    "version": 3
   },
   "file_extension": ".py",
   "mimetype": "text/x-python",
   "name": "python",
   "nbconvert_exporter": "python",
   "pygments_lexer": "ipython3",
   "version": "3.11.5"
  }
 },
 "nbformat": 4,
 "nbformat_minor": 4
}
