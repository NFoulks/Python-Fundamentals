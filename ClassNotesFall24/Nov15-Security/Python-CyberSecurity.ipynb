{
 "cells": [
  {
   "cell_type": "markdown",
   "metadata": {},
   "source": [
    "## **Python & Cybersecurity**\n",
    "\n",
    "- Introduction to Cybersecurity\n",
    "- How Python is Used in Cybersecurity\n",
    "- Resources and Tools\n",
    "- Experimentation with Cryptohack \n",
    "\n",
    "Note: The information provided in this cybersecurity class is intended for general knowledge and awareness only. Check with your universities policies before working with any tooling presented in the material. "
   ]
  },
  {
   "cell_type": "markdown",
   "metadata": {},
   "source": [
    "### **1. Introduction to Cybersecurity**\n",
    "\n",
    "   - **What is Cybersecurity?**\n",
    "     - Cybersecurity involves protecting systems, networks, and data from digital attacks to ensure Confidentiality, Integrity, and Availability (CIA Triad).\n",
    "\n",
    "   - **Key Areas of Cybersecurity**\n",
    "     - **Network Security**: Protects network infrastructure from unauthorized access.\n",
    "     - **Application Security**: Secures applications at every stage of development and deployment.\n",
    "       - **OWASP (Open Web Application Security Project)**: A prominent organization that publishes guidelines for secure coding, including the [OWASP Top 10](https://owasp.org/www-project-top-ten/), which highlights the most critical security risks in web applications (e.g., Injection, Cross-Site Scripting, Insecure Deserialization).\n",
    "     - **Information Security**: Protecting data privacy and integrity.\n",
    "     - **Operational Security**: Managing and protecting sensitive data and systems in everyday operations.\n",
    "     - **Incident Response & Forensics**: Detecting, analyzing, and responding to security breaches.\n",
    "   \n",
    "   - **Source:**  \n",
    "     - [NIST Cybersecurity Framework](https://www.nist.gov/cyberframework)  \n",
    "     - [OWASP Top 10](https://owasp.org/www-project-top-ten/)"
   ]
  },
  {
   "cell_type": "markdown",
   "metadata": {},
   "source": [
    "### **2. How Python is Used in Cybersecurity**\n",
    "\n",
    "   - **Why Python?**\n",
    "     - Python’s readability, flexibility, and libraries make it suitable for cybersecurity, enabling rapid development for scripting, automation and testing.\n",
    "\n",
    "   - **Popular Use Cases**\n",
    "     - **Web Application Security and OWASP Compliance**: Python can automate vulnerability scans and simulate attacks on web applications based on OWASP guidelines.\n",
    "     - **Network Scanning**: Tools like `nmap` for analyzing network architecture.\n",
    "     - **Data Encryption**: `pyca/cryptography` for implementing encryption and decryption techniques.\n",
    "\n",
    "   - **Source:**  \n",
    "     - [Scapy Documentation](https://scapy.readthedocs.io/)  \n",
    "     - [awesome-python-security](https://github.com/guardrailsio/awesome-python-security?tab=readme-ov-file)"
   ]
  },
  {
   "cell_type": "markdown",
   "metadata": {},
   "source": [
    "### **3. Resources and Tools**\n",
    "\n",
    "   - **Libraries to Explore**\n",
    "     - **`Scapy`**: For network packet analysis, useful in vulnerability scanning.\n",
    "       - [Scapy Documentation](https://scapy.readthedocs.io/)\n",
    "     - **`Requests` and `BeautifulSoup`**: For open-source intelegence (OSINT) tasks and simulating OWASP web application security tests.\n",
    "     - **`PyCryptodome`**: For cryptographic functions like encryption, useful in ensuring data integrity.\n",
    "     - **`Impacket` and `Pwntools`**: For penetration testing and exploitation, aligning with the OWASP principles for security testing.\n",
    "  \n",
    "   - **Organizations to Follow**\n",
    "     - [CMU Cybersecurity Programs](https://catalog.coloradomesa.edu/areas-study/cyber-security/)\n",
    "     - [NIST Cybersecurity](https://www.nist.gov/cyberframework)  \n",
    "     - [OWASP](https://owasp.org/)\n",
    "     - [SANS](https://www.sans.org/)"
   ]
  },
  {
   "cell_type": "markdown",
   "metadata": {},
   "source": [
    "### **4. Cryptohack**\n",
    "Cryptohack is a free hacking playground to learn more about crypotography using Python.\n",
    "1. [CryptoHack Registration](https://cryptohack.org/register/)\n",
    "2. [Introduction to Cryptohack](https://cryptohack.org/courses/intro/course_details/)"
   ]
  }
 ],
 "metadata": {
  "kernelspec": {
   "display_name": "Python 3",
   "language": "python",
   "name": "python3"
  },
  "language_info": {
   "codemirror_mode": {
    "name": "ipython",
    "version": 3
   },
   "file_extension": ".py",
   "mimetype": "text/x-python",
   "name": "python",
   "nbconvert_exporter": "python",
   "pygments_lexer": "ipython3",
   "version": "3.8.11"
  }
 },
 "nbformat": 4,
 "nbformat_minor": 2
}
