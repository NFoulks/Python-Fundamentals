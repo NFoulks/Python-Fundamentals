{
 "cells": [
  {
   "cell_type": "markdown",
   "metadata": {},
   "source": [
    "## **Python & Cybersecurity**\n",
    "\n",
    "- Introduction to Cybersecurity\n",
    "- How Python is Used in Cybersecurity\n",
    "- Resources and Tools\n",
    "- Experimentation with Cryptohack \n",
    "\n",
    "**Disclaimer:** The information and tools presented in this cybersecurity class are intended for educational purposes and awareness only. Unauthorized use of these tools outside of controlled environments or without permission may violate legal and institutional policies. Please ensure you comply with your university's guidelines and obtain appropriate permissions before experimenting with any tools or techniques introduced in this material.\n",
    "\n",
    "Note: Content compiled in collaboration with ChatGPT"
   ]
  },
  {
   "cell_type": "markdown",
   "metadata": {},
   "source": [
    "### **1. Introduction to Cybersecurity**\n",
    "\n",
    "   - **What is Cybersecurity?**\n",
    "     - Cybersecurity involves protecting systems, networks, and data from digital attacks to ensure Confidentiality, Integrity, and Availability (CIA Triad).\n",
    "\n",
    "   - **Key Areas of Cybersecurity**\n",
    "     - **Network Security**: Protects network infrastructure from unauthorized access.\n",
    "     - **Application Security**: Secures applications at every stage of development and deployment.\n",
    "       - **OWASP (Open Web Application Security Project)**: A prominent organization that publishes guidelines for secure coding, including the [OWASP Top 10](https://owasp.org/www-project-top-ten/), which highlights the most critical security risks in web applications (e.g., Injection, Cross-Site Scripting, Insecure Deserialization).\n",
    "     - **Information Security**: Protecting data privacy and integrity.\n",
    "     - **Operational Security**: Managing and protecting sensitive data and systems in everyday operations.\n",
    "     - **Incident Response & Forensics**: Detecting, analyzing, and responding to security breaches.\n",
    "   \n",
    "   - **Source:**  \n",
    "     - [NIST Cybersecurity Framework](https://www.nist.gov/cyberframework)  \n",
    "     - [OWASP Top 10](https://owasp.org/www-project-top-ten/)"
   ]
  },
  {
   "cell_type": "markdown",
   "metadata": {},
   "source": [
    "### **2. How Python is Used in Cybersecurity**\n",
    "\n",
    "   - **Why Python?**\n",
    "     - Python’s readability, flexibility, and libraries make it suitable for cybersecurity, enabling rapid development for scripting, automation and testing.\n",
    "\n",
    "   - **Popular Use Cases**\n",
    "     - **Web Application Security**: Large library of tooling for vulnerability scans and simulate attacks on applications.\n",
    "     - **Network Scanning**: Tools like `nmap` for analyzing network topology.\n",
    "     - **Data Encryption**: `pyca/cryptography` for implementing encryption and decryption techniques.\n",
    "\n",
    "   - **Source:**  \n",
    "     - [python-nmap](https://pypi.org/project/python-nmap/)\n",
    "     - [awesome-python-security](https://github.com/guardrailsio/awesome-python-security?tab=readme-ov-file)"
   ]
  },
  {
   "cell_type": "markdown",
   "metadata": {},
   "source": [
    "### **3. Resources and Tools**\n",
    "\n",
    "   - **Libraries & References to Explore**\n",
    "     - [awesome-python-security](https://github.com/guardrailsio/awesome-python-security?tab=readme-ov-file)\n",
    "     - Tools\n",
    "       - **`Scapy`**: For network packet analysis, useful in vulnerability scanning.\n",
    "         - [Scapy Documentation](https://scapy.readthedocs.io/)\n",
    "       - **`Requests` and `BeautifulSoup`**: For open-source intelegence (OSINT) tasks and simulating OWASP web application security tests.\n",
    "       - **`PyCryptodome`**: For cryptographic functions like encryption, useful in ensuring data integrity.\n",
    "       - **`Impacket` and `Pwntools`**: For penetration testing and exploitation, aligning with the OWASP principles for security testing.\n",
    "  \n",
    "   - **Organizations to Follow**\n",
    "     - [CMU Cybersecurity Programs](https://catalog.coloradomesa.edu/areas-study/cyber-security/)\n",
    "     - [NIST Cybersecurity](https://www.nist.gov/cyberframework)  \n",
    "     - [OWASP](https://owasp.org/)\n",
    "     - [SANS](https://www.sans.org/)"
   ]
  },
  {
   "cell_type": "markdown",
   "metadata": {},
   "source": [
    "### **4. Cryptohack**\n",
    "Cryptohack is a free hacking playground to learn more about crypotography using Python.\n",
    "1. [CryptoHack Registration](https://cryptohack.org/register/)\n",
    "2. [Introduction to Cryptohack](https://cryptohack.org/courses/intro/course_details/)"
   ]
  },
  {
   "cell_type": "markdown",
   "metadata": {},
   "source": [
    "Exercise: Encoding ASCII Challenge"
   ]
  },
  {
   "cell_type": "code",
   "execution_count": null,
   "metadata": {},
   "outputs": [],
   "source": [
    "import sys\n",
    "# import this\n",
    "\n",
    "ords = [99, 114, 121, 112, 116, 111, 123, 65, 83, 67, 73, 73, 95, 112, 114, 49, 110, 116, 52, 98, 108, 51, 125]\n",
    "\n",
    "# print(\"Here is your flag:\")\n",
    "print(\"\".join(chr(o) for o in ords))"
   ]
  },
  {
   "cell_type": "markdown",
   "metadata": {},
   "source": [
    "Exercise: Encoding Hex Challenge"
   ]
  },
  {
   "cell_type": "code",
   "execution_count": null,
   "metadata": {},
   "outputs": [],
   "source": [
    "# Hex Challenge\n",
    "print(\"Here is your flag:\")\n",
    "print(bytes.fromhex(\"63727970746f7b596f755f77696c6c5f62655f776f726b696e675f776974685f6865785f737472696e67735f615f6c6f747d\"))\n"
   ]
  },
  {
   "cell_type": "markdown",
   "metadata": {},
   "source": [
    "Exercise: base64 challenge"
   ]
  },
  {
   "cell_type": "code",
   "execution_count": null,
   "metadata": {},
   "outputs": [],
   "source": [
    "# base64 Challenge\n",
    "import base64\n",
    "result = bytes.fromhex(\"72bca9b68fc16ac7beeb8f849dca1d8a783e8acf9679bf9269f7bf\")\n",
    "print(base64.b64encode(result))"
   ]
  },
  {
   "cell_type": "markdown",
   "metadata": {},
   "source": [
    "Exercise: XOR Properties\n",
    "\n",
    "- Commutative: A ⊕ B = B ⊕ A\n",
    "- Associative: A ⊕ (B ⊕ C) = (A ⊕ B) ⊕ C\n",
    "- Identity: A ⊕ 0 = A\n",
    "- Self-Inverse: A ⊕ A = 0"
   ]
  },
  {
   "cell_type": "code",
   "execution_count": null,
   "metadata": {},
   "outputs": [],
   "source": [
    "\n",
    "# XOR 3 Key Challenge\n",
    "# KEY1 = a6c8b6733c9b22de7bc0253266a3867df55acde8635e19c73313\n",
    "# KEY2 ^ KEY1 = 37dcb292030faa90d07eec17e3b1c6d8daf94c35d4c9191a5e1e\n",
    "# KEY2 ^ KEY3 = c1545756687e7573db23aa1c3452a098b71a7fbf0fddddde5fc1\n",
    "# FLAG ^ KEY1 ^ KEY3 ^ KEY2 = 04ee9855208a2cd59091d04767ae47963170d1660df7f56f5faf\n",
    "\n",
    "key1 = bytes.fromhex(\"a6c8b6733c9b22de7bc0253266a3867df55acde8635e19c73313\")\n",
    "key2key1 = bytes.fromhex('37dcb292030faa90d07eec17e3b1c6d8daf94c35d4c9191a5e1e')\n",
    "key3key2 = bytes.fromhex('c1545756687e7573db23aa1c3452a098b71a7fbf0fddddde5fc1')\n",
    "flagkey = bytes.fromhex('04ee9855208a2cd59091d04767ae47963170d1660df7f56f5faf')\n",
    "\n",
    "counter = 0\n",
    "resultKey2 = []\n",
    "resultKey3 = []\n",
    "flag = []\n",
    "\n",
    "#Find key2\n",
    "while counter < 26:\n",
    "    resultKey2.append(key1[counter] ^ key2key1[counter])\n",
    "    print(\"----\")\n",
    "    print(key1[counter])\n",
    "    print(key2key1[counter])\n",
    "    print(chr(key1[counter] ^ key2key1[counter]))\n",
    "    counter += 1\n",
    "\n",
    "counter = 0\n",
    "#Find key3\n",
    "while counter < 26:\n",
    "    resultKey3.append(key3key2[counter] ^ resultKey2[counter])\n",
    "    print(\"----\")\n",
    "    print(resultKey2[counter])\n",
    "    print(key3key2[counter])\n",
    "    print(chr(key3key2[counter] ^ resultKey2[counter]))\n",
    "    counter += 1\n",
    "    \n",
    "counter = 0\n",
    "#Find flag\n",
    "while counter < 26:\n",
    "    flag.append(chr(key1[counter] ^ resultKey2[counter] ^ resultKey3[counter] ^ flagkey[counter]))\n",
    "    print(\"----\")\n",
    "    print(flag[counter])\n",
    "    counter += 1\n",
    "    \n",
    "print(flag)"
   ]
  },
  {
   "cell_type": "code",
   "execution_count": null,
   "metadata": {},
   "outputs": [],
   "source": [
    "# install pwntools\n",
    "# Mac $ brew install https://raw.githubusercontent.com/Gallopsled/pwntools-binutils/master/macos/binutils-$ARCH.rb\n",
    "# Ubuntu\n",
    " \n",
    "import pwntools\n",
    "\n"
   ]
  }
 ],
 "metadata": {
  "kernelspec": {
   "display_name": "base",
   "language": "python",
   "name": "python3"
  },
  "language_info": {
   "codemirror_mode": {
    "name": "ipython",
    "version": 3
   },
   "file_extension": ".py",
   "mimetype": "text/x-python",
   "name": "python",
   "nbconvert_exporter": "python",
   "pygments_lexer": "ipython3",
   "version": "3.7.6"
  }
 },
 "nbformat": 4,
 "nbformat_minor": 2
}
